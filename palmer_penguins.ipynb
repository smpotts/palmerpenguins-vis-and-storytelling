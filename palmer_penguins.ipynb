{
 "cells": [
  {
   "cell_type": "markdown",
   "id": "22460606-f186-4797-bb2a-f75f2c6de28b",
   "metadata": {},
   "source": [
    "# Analyzing and Visualizing Penguin Data with ggplot2\n",
    "### Data Analysis and Visualization using the **palmerpenguins** dataset in R\n",
    "\n",
    "In this notebook, I leverage the data analysis and visualization skills learned in my **Data Analysis in R** course at **Eastern University**. Using **ggplot2**, I explore and uncover insights from the **palmerpenguins** dataset through compelling visualizations."
   ]
  },
  {
   "cell_type": "markdown",
   "id": "2eb85485-bf16-4e1d-af31-6a80da59b152",
   "metadata": {},
   "source": [
    "### Setup and library imports"
   ]
  },
  {
   "cell_type": "code",
   "execution_count": 5,
   "id": "735e50d0-f1e7-424c-b8bd-96152abd33c9",
   "metadata": {},
   "outputs": [
    {
     "name": "stdout",
     "output_type": "stream",
     "text": [
      "\n",
      "The downloaded binary packages are in\n",
      "\t/var/folders/pl/77yqs8ws78z445jd6qd59vtr0000gn/T//RtmpgigY5o/downloaded_packages\n"
     ]
    }
   ],
   "source": [
    "# install necessary libraries\n",
    "install.packages(c(\"ggplot2\", \"palmerpenguins\", \"dplyr\"))"
   ]
  },
  {
   "cell_type": "code",
   "execution_count": 9,
   "id": "9a07334e-ec10-45e2-a895-77e6614390c7",
   "metadata": {},
   "outputs": [],
   "source": [
    "# load libraries\n",
    "library(palmerpenguins)\n",
    "library(ggplot2)\n",
    "library(dplyr)"
   ]
  },
  {
   "cell_type": "markdown",
   "id": "a2f53fa2-e74e-4c24-84d1-39b0efb62bed",
   "metadata": {},
   "source": [
    "### Dataset Overview\n",
    "A brief overview of the dataset, including summary statistics and an inspection of the columns and first few rows."
   ]
  },
  {
   "cell_type": "code",
   "execution_count": 18,
   "id": "e0941936-818e-4697-beab-8726a5010dbc",
   "metadata": {},
   "outputs": [
    {
     "name": "stderr",
     "output_type": "stream",
     "text": [
      "glimpse:\n",
      "\n"
     ]
    },
    {
     "name": "stdout",
     "output_type": "stream",
     "text": [
      "Rows: 344\n",
      "Columns: 8\n",
      "$ species           \u001b[3m\u001b[90m<fct>\u001b[39m\u001b[23m Adelie, Adelie, Adelie, Adelie, Adelie, Adelie, Adel…\n",
      "$ island            \u001b[3m\u001b[90m<fct>\u001b[39m\u001b[23m Torgersen, Torgersen, Torgersen, Torgersen, Torgerse…\n",
      "$ bill_length_mm    \u001b[3m\u001b[90m<dbl>\u001b[39m\u001b[23m 39.1, 39.5, 40.3, \u001b[31mNA\u001b[39m, 36.7, 39.3, 38.9, 39.2, 34.1, …\n",
      "$ bill_depth_mm     \u001b[3m\u001b[90m<dbl>\u001b[39m\u001b[23m 18.7, 17.4, 18.0, \u001b[31mNA\u001b[39m, 19.3, 20.6, 17.8, 19.6, 18.1, …\n",
      "$ flipper_length_mm \u001b[3m\u001b[90m<int>\u001b[39m\u001b[23m 181, 186, 195, \u001b[31mNA\u001b[39m, 193, 190, 181, 195, 193, 190, 186…\n",
      "$ body_mass_g       \u001b[3m\u001b[90m<int>\u001b[39m\u001b[23m 3750, 3800, 3250, \u001b[31mNA\u001b[39m, 3450, 3650, 3625, 4675, 3475, …\n",
      "$ sex               \u001b[3m\u001b[90m<fct>\u001b[39m\u001b[23m male, female, female, \u001b[31mNA\u001b[39m, female, male, female, male…\n",
      "$ year              \u001b[3m\u001b[90m<int>\u001b[39m\u001b[23m 2007, 2007, 2007, 2007, 2007, 2007, 2007, 2007, 2007…\n"
     ]
    },
    {
     "name": "stderr",
     "output_type": "stream",
     "text": [
      "summary:\n",
      "\n"
     ]
    },
    {
     "data": {
      "text/plain": [
       "      species          island    bill_length_mm  bill_depth_mm  \n",
       " Adelie   :152   Biscoe   :168   Min.   :32.10   Min.   :13.10  \n",
       " Chinstrap: 68   Dream    :124   1st Qu.:39.23   1st Qu.:15.60  \n",
       " Gentoo   :124   Torgersen: 52   Median :44.45   Median :17.30  \n",
       "                                 Mean   :43.92   Mean   :17.15  \n",
       "                                 3rd Qu.:48.50   3rd Qu.:18.70  \n",
       "                                 Max.   :59.60   Max.   :21.50  \n",
       "                                 NA's   :2       NA's   :2      \n",
       " flipper_length_mm  body_mass_g       sex           year     \n",
       " Min.   :172.0     Min.   :2700   female:165   Min.   :2007  \n",
       " 1st Qu.:190.0     1st Qu.:3550   male  :168   1st Qu.:2007  \n",
       " Median :197.0     Median :4050   NA's  : 11   Median :2008  \n",
       " Mean   :200.9     Mean   :4202                Mean   :2008  \n",
       " 3rd Qu.:213.0     3rd Qu.:4750                3rd Qu.:2009  \n",
       " Max.   :231.0     Max.   :6300                Max.   :2009  \n",
       " NA's   :2         NA's   :2                                 "
      ]
     },
     "metadata": {},
     "output_type": "display_data"
    },
    {
     "name": "stderr",
     "output_type": "stream",
     "text": [
      "structure:\n",
      "\n"
     ]
    },
    {
     "name": "stdout",
     "output_type": "stream",
     "text": [
      "tibble [344 × 8] (S3: tbl_df/tbl/data.frame)\n",
      " $ species          : Factor w/ 3 levels \"Adelie\",\"Chinstrap\",..: 1 1 1 1 1 1 1 1 1 1 ...\n",
      " $ island           : Factor w/ 3 levels \"Biscoe\",\"Dream\",..: 3 3 3 3 3 3 3 3 3 3 ...\n",
      " $ bill_length_mm   : num [1:344] 39.1 39.5 40.3 NA 36.7 39.3 38.9 39.2 34.1 42 ...\n",
      " $ bill_depth_mm    : num [1:344] 18.7 17.4 18 NA 19.3 20.6 17.8 19.6 18.1 20.2 ...\n",
      " $ flipper_length_mm: int [1:344] 181 186 195 NA 193 190 181 195 193 190 ...\n",
      " $ body_mass_g      : int [1:344] 3750 3800 3250 NA 3450 3650 3625 4675 3475 4250 ...\n",
      " $ sex              : Factor w/ 2 levels \"female\",\"male\": 2 1 1 NA 1 2 1 2 NA NA ...\n",
      " $ year             : int [1:344] 2007 2007 2007 2007 2007 2007 2007 2007 2007 2007 ...\n"
     ]
    },
    {
     "name": "stderr",
     "output_type": "stream",
     "text": [
      "first five rows:\n",
      "\n"
     ]
    },
    {
     "data": {
      "text/html": [
       "<table class=\"dataframe\">\n",
       "<caption>A tibble: 5 × 8</caption>\n",
       "<thead>\n",
       "\t<tr><th scope=col>species</th><th scope=col>island</th><th scope=col>bill_length_mm</th><th scope=col>bill_depth_mm</th><th scope=col>flipper_length_mm</th><th scope=col>body_mass_g</th><th scope=col>sex</th><th scope=col>year</th></tr>\n",
       "\t<tr><th scope=col>&lt;fct&gt;</th><th scope=col>&lt;fct&gt;</th><th scope=col>&lt;dbl&gt;</th><th scope=col>&lt;dbl&gt;</th><th scope=col>&lt;int&gt;</th><th scope=col>&lt;int&gt;</th><th scope=col>&lt;fct&gt;</th><th scope=col>&lt;int&gt;</th></tr>\n",
       "</thead>\n",
       "<tbody>\n",
       "\t<tr><td>Adelie</td><td>Torgersen</td><td>39.1</td><td>18.7</td><td>181</td><td>3750</td><td>male  </td><td>2007</td></tr>\n",
       "\t<tr><td>Adelie</td><td>Torgersen</td><td>39.5</td><td>17.4</td><td>186</td><td>3800</td><td>female</td><td>2007</td></tr>\n",
       "\t<tr><td>Adelie</td><td>Torgersen</td><td>40.3</td><td>18.0</td><td>195</td><td>3250</td><td>female</td><td>2007</td></tr>\n",
       "\t<tr><td>Adelie</td><td>Torgersen</td><td>  NA</td><td>  NA</td><td> NA</td><td>  NA</td><td>NA    </td><td>2007</td></tr>\n",
       "\t<tr><td>Adelie</td><td>Torgersen</td><td>36.7</td><td>19.3</td><td>193</td><td>3450</td><td>female</td><td>2007</td></tr>\n",
       "</tbody>\n",
       "</table>\n"
      ],
      "text/latex": [
       "A tibble: 5 × 8\n",
       "\\begin{tabular}{llllllll}\n",
       " species & island & bill\\_length\\_mm & bill\\_depth\\_mm & flipper\\_length\\_mm & body\\_mass\\_g & sex & year\\\\\n",
       " <fct> & <fct> & <dbl> & <dbl> & <int> & <int> & <fct> & <int>\\\\\n",
       "\\hline\n",
       "\t Adelie & Torgersen & 39.1 & 18.7 & 181 & 3750 & male   & 2007\\\\\n",
       "\t Adelie & Torgersen & 39.5 & 17.4 & 186 & 3800 & female & 2007\\\\\n",
       "\t Adelie & Torgersen & 40.3 & 18.0 & 195 & 3250 & female & 2007\\\\\n",
       "\t Adelie & Torgersen &   NA &   NA &  NA &   NA & NA     & 2007\\\\\n",
       "\t Adelie & Torgersen & 36.7 & 19.3 & 193 & 3450 & female & 2007\\\\\n",
       "\\end{tabular}\n"
      ],
      "text/markdown": [
       "\n",
       "A tibble: 5 × 8\n",
       "\n",
       "| species &lt;fct&gt; | island &lt;fct&gt; | bill_length_mm &lt;dbl&gt; | bill_depth_mm &lt;dbl&gt; | flipper_length_mm &lt;int&gt; | body_mass_g &lt;int&gt; | sex &lt;fct&gt; | year &lt;int&gt; |\n",
       "|---|---|---|---|---|---|---|---|\n",
       "| Adelie | Torgersen | 39.1 | 18.7 | 181 | 3750 | male   | 2007 |\n",
       "| Adelie | Torgersen | 39.5 | 17.4 | 186 | 3800 | female | 2007 |\n",
       "| Adelie | Torgersen | 40.3 | 18.0 | 195 | 3250 | female | 2007 |\n",
       "| Adelie | Torgersen |   NA |   NA |  NA |   NA | NA     | 2007 |\n",
       "| Adelie | Torgersen | 36.7 | 19.3 | 193 | 3450 | female | 2007 |\n",
       "\n"
      ],
      "text/plain": [
       "  species island    bill_length_mm bill_depth_mm flipper_length_mm body_mass_g\n",
       "1 Adelie  Torgersen 39.1           18.7          181               3750       \n",
       "2 Adelie  Torgersen 39.5           17.4          186               3800       \n",
       "3 Adelie  Torgersen 40.3           18.0          195               3250       \n",
       "4 Adelie  Torgersen   NA             NA           NA                 NA       \n",
       "5 Adelie  Torgersen 36.7           19.3          193               3450       \n",
       "  sex    year\n",
       "1 male   2007\n",
       "2 female 2007\n",
       "3 female 2007\n",
       "4 NA     2007\n",
       "5 female 2007"
      ]
     },
     "metadata": {},
     "output_type": "display_data"
    }
   ],
   "source": [
    "message(\"glimpse:\")\n",
    "glimpse(penguins)\n",
    "\n",
    "message(\"summary:\")\n",
    "summary(penguins)\n",
    "\n",
    "message(\"structure:\")\n",
    "str(penguins)\n",
    "\n",
    "message(\"first five rows:\")\n",
    "head(penguins, 5)"
   ]
  }
 ],
 "metadata": {
  "kernelspec": {
   "display_name": "R",
   "language": "R",
   "name": "ir"
  },
  "language_info": {
   "codemirror_mode": "r",
   "file_extension": ".r",
   "mimetype": "text/x-r-source",
   "name": "R",
   "pygments_lexer": "r",
   "version": "4.4.2"
  }
 },
 "nbformat": 4,
 "nbformat_minor": 5
}
